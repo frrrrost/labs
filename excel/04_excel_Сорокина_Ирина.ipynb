{
 "cells": [
  {
   "cell_type": "markdown",
   "metadata": {},
   "source": [
    "# Работа с Excel"
   ]
  },
  {
   "cell_type": "markdown",
   "metadata": {},
   "source": [
    "Материалы:\n",
    "* Макрушин С.В. Лекция 7: Работа с Excel\n",
    "* https://docs.xlwings.org/en/stable/quickstart.html\n",
    "* https://nbviewer.jupyter.org/github/pybokeh/jupyter_notebooks/blob/master/xlwings/Excel_Formatting.ipynb#search_text\n"
   ]
  },
  {
   "cell_type": "markdown",
   "metadata": {},
   "source": [
    "## Задачи для совместного разбора"
   ]
  },
  {
   "cell_type": "markdown",
   "metadata": {},
   "source": [
    "1. На листе \"Рецептура\" файла `себестоимостьА_в1.xlsx` для области \"Пшеничный хлеб\" рассчитать себестоимость всех видов продукции."
   ]
  },
  {
   "cell_type": "code",
   "execution_count": null,
   "metadata": {},
   "outputs": [],
   "source": [
    "import xlwings as xw \n",
    "import numpy as np\n",
    "wb1 = xw.Book('себестоимостьА_в1.xlsx')\n",
    "sht = wb1.sheets['Рецептура']\n",
    "consumption = sht.range('G7:O10').options(np.array).value\n",
    "consumption"
   ]
  },
  {
   "cell_type": "code",
   "execution_count": null,
   "metadata": {},
   "outputs": [],
   "source": [
    "unit_price = sht.range('G14:O14').options(np.array).value\n",
    "unit_price"
   ]
  },
  {
   "cell_type": "code",
   "execution_count": null,
   "metadata": {},
   "outputs": [],
   "source": [
    "cost_price = np.nan_to_num(consumption*unit_price).sum(axis = 1)\n",
    "cost_price"
   ]
  },
  {
   "cell_type": "markdown",
   "metadata": {},
   "source": [
    "2. Результаты расчетов 1.1 сохранить в отдельном столбце области \"Пшеничный хлеб\""
   ]
  },
  {
   "cell_type": "code",
   "execution_count": null,
   "metadata": {},
   "outputs": [],
   "source": [
    "sht.range('T7:T10').options(transpose= True).value = cost_price\n",
    "sht.range('T6').value = 'Себестоимость'"
   ]
  },
  {
   "cell_type": "markdown",
   "metadata": {},
   "source": [
    "3. Приблизить форматирование столбца, добавленного в задаче 2 к оформлению всей области."
   ]
  },
  {
   "cell_type": "code",
   "execution_count": null,
   "metadata": {},
   "outputs": [],
   "source": [
    "sht['T4:T6'].merge()\n",
    "sht['B3:T3'].merge()\n",
    "sht['B3:T3'].api.Borders.Weight= 2\n",
    "head = sht['T4:T6']\n",
    "head.value = 'Себестоимость'\n",
    "head.autofit()\n",
    "head.font.color = (255,255,255)\n",
    "head.color = (230, 230, 250)\n",
    "head.font.bold = True\n",
    "head.api.HorizontalAlignment = xw.constants.HAlign.xlHAlignCenter\n",
    "head.api.VerticalAlignment = xw.constants.HAlign.xlHAlignCenter\n",
    "head.api.Borders.Weight = 2\n",
    "sht['T7:T10'].color = (50, 205, 50)\n",
    "sht['T7:T10'].api.Borders.Wight = 2"
   ]
  },
  {
   "cell_type": "markdown",
   "metadata": {},
   "source": [
    "4. Выполнить 3 с помощью \"протягиваемых\" формул."
   ]
  },
  {
   "cell_type": "code",
   "execution_count": null,
   "metadata": {},
   "outputs": [],
   "source": [
    "sht['T7:T10'].value = '=SUMPRODUCT(G7:O7; G14:O14)'"
   ]
  },
  {
   "cell_type": "markdown",
   "metadata": {},
   "source": [
    "## Лабораторная работа 7.1"
   ]
  },
  {
   "cell_type": "markdown",
   "metadata": {},
   "source": [
    "1. Загрузите данные из файлов `reviews_sample.csv` (__ЛР2__) и `recipes_sample.csv` (__ЛР5__) в виде `pd.DataFrame`. Обратите внимание на корректное считывание столбца(ов) с индексами. Оставьте в таблице с рецептами следующие столбцы: `id`, `name`, `minutes`, `submitted`, `description`, `n_ingredients`"
   ]
  },
  {
   "cell_type": "code",
   "execution_count": null,
   "metadata": {},
   "outputs": [],
   "source": [
    "import pandas as pd"
   ]
  },
  {
   "cell_type": "code",
   "execution_count": null,
   "metadata": {},
   "outputs": [],
   "source": [
    "recipes = pd.read_csv('recipes_sample.csv')\n",
    "recipes = recipes[['id', 'name', 'minutes', 'submitted', 'description', 'n_ingredients']]\n",
    "reviews = pd.read_csv('reviews_sample.csv')"
   ]
  },
  {
   "cell_type": "markdown",
   "metadata": {},
   "source": [
    "2. Случайным образом выберите 5% строк из каждой таблицы и сохраните две таблицы на разные листы в один файл `recipes.xlsx`. Дайте листам названия \"Рецепты\" и \"Отзывы\", соответствующие содержанию таблиц. "
   ]
  },
  {
   "cell_type": "code",
   "execution_count": null,
   "metadata": {},
   "outputs": [],
   "source": [
    "recipes_s =  recipes.sample(frac = 0.05)\n",
    "reviews_s = reviews.sample(frac = 0.05)\n",
    "with pd.ExcelWriter('recipes.xlsx') as writer: \n",
    "    recipes_s.to_excel(writer, sheet_name = 'Рецепты')\n",
    "    reviews_s.to_excel(writer, sheet_name = 'Отзывы')"
   ]
  },
  {
   "cell_type": "markdown",
   "metadata": {},
   "source": [
    "3. Используя `xlwings`, добавьте на лист `Рецепты` столбец `seconds_assign`, показывающий время выполнения рецепта в секундах. Выполните задание при помощи присваивания массива значений диапазону ячеек."
   ]
  },
  {
   "cell_type": "code",
   "execution_count": null,
   "metadata": {},
   "outputs": [],
   "source": [
    "import xlwings as xw"
   ]
  },
  {
   "cell_type": "code",
   "execution_count": null,
   "metadata": {},
   "outputs": [],
   "source": [
    "wb = xw.Book('recipes.xlsx')\n",
    "sht1 = wb.sheets['Рецепты']\n",
    "sht1['H1'].value = 'second_assign'\n",
    "sht1['H2:H1501'].value = (recipes_s['minutes'].values * 60)[:, None]"
   ]
  },
  {
   "cell_type": "markdown",
   "metadata": {},
   "source": [
    "4. Используя `xlwings`, добавьте на лист `Рецепты` столбец `seconds_formula`, показывающий время выполнения рецепта в секундах. Выполните задание при помощи формул Excel."
   ]
  },
  {
   "cell_type": "code",
   "execution_count": null,
   "metadata": {},
   "outputs": [],
   "source": [
    "sht1['I1'].value= 'seconds_formula'\n",
    "sht1['I2:I1501'].formula = '=D2*60'"
   ]
  },
  {
   "cell_type": "markdown",
   "metadata": {},
   "source": [
    "5. Сделайте названия всех добавленных столбцов полужирными и выровняйте по центру ячейки."
   ]
  },
  {
   "cell_type": "code",
   "execution_count": null,
   "metadata": {},
   "outputs": [],
   "source": [
    "sht1['H1:I1'].font.bold = True"
   ]
  },
  {
   "cell_type": "code",
   "execution_count": null,
   "metadata": {},
   "outputs": [],
   "source": [
    "from openpyxl.styles.alignment import Alignment\n",
    "sht1['H1:I1'].alignment = Alignment(horizontal=\"center\")"
   ]
  },
  {
   "cell_type": "markdown",
   "metadata": {},
   "source": [
    "6. Раскрасьте ячейки столбца `minutes` в соответствии со следующим правилом: если рецепт выполняется быстрее 5 минут, то цвет - зеленый; от 5 до 10 минут - жёлтый; и больше 10 - красный."
   ]
  },
  {
   "cell_type": "code",
   "execution_count": null,
   "metadata": {},
   "outputs": [],
   "source": [
    "for i in sht1['D2'].expand('down'):\n",
    "    if i.value < 5: \n",
    "        i.color = (124, 252, 0)\n",
    "    elif 5<=i.value<=10:\n",
    "        i.color = (255,255,0)\n",
    "    else: \n",
    "        i.color = (255,0,0)"
   ]
  },
  {
   "cell_type": "markdown",
   "metadata": {},
   "source": [
    "7. Добавьте на лист `Рецепты`  столбец `n_reviews`, содержащий кол-во отзывов для этого рецепта. Выполните задание при помощи формул Excel."
   ]
  },
  {
   "cell_type": "code",
   "execution_count": null,
   "metadata": {},
   "outputs": [],
   "source": [
    "sht1['J1'].value = 'n_reviews'\n",
    "fml = sht1['J1'].formula = '=COUNTIF(Отзывы!D2:D6336, B2)'\n",
    "sht1.range('J2:J1501').formula = fml"
   ]
  },
  {
   "cell_type": "markdown",
   "metadata": {},
   "source": [
    "## Лабораторная работа 7.2"
   ]
  },
  {
   "cell_type": "markdown",
   "metadata": {},
   "source": [
    "8. Напишите функцию `validate()`, которая проверяет соответствие всех строк из листа `Отзывы` следующим правилам:\n",
    "    * Рейтинг - это число от 0 до 5 включительно\n",
    "    * Соответствующий рецепт имеется на листе `Рецепты`\n",
    "    \n",
    "В случае несоответствия этим правилам, выделите строку красным цветом"
   ]
  },
  {
   "cell_type": "code",
   "execution_count": null,
   "metadata": {},
   "outputs": [],
   "source": [
    "sht2 = wb.sheets['Отзывы']\n",
    "def validate():\n",
    "    for i in range(2, reviews_s.shape[0] + 1):\n",
    "        if sht2.range(f'C{i}').value not in recipes_s['id']:\n",
    "            sht2.range(f'A{i}: F{i}').color = (220, 151, 255)\n",
    "        elif sht2.range(f'E{i}').value not in range(0,6):\n",
    "            sht2.range(f'A{i}:F{i}').color = (255, 0, 0)\n",
    "validate()"
   ]
  },
  {
   "cell_type": "markdown",
   "metadata": {},
   "source": [
    "9. В файле `recipes_model.csv` находится модель данных предметной области \"рецепты\". При помощи пакета `csv` считайте эти данные. При помощи пакета `xlwings` запишите данные на лист `Модель` книги `recipes_model.xlsx`, начиная с ячейки `A2`, не используя циклы. Сделайте скриншот текущего состояния листа и прикрепите в ячейку ноутбука. "
   ]
  },
  {
   "cell_type": "code",
   "execution_count": null,
   "metadata": {},
   "outputs": [],
   "source": [
    "import csv \n",
    "with open('recipes_model.csv', encoding = 'utf-8') as file:\n",
    "    df = csv.reader(file)\n",
    "    wb = xw.Book()\n",
    "    wb.save('recipes_model.xlsx')\n",
    "    sht1 = wb.sheets[0]\n",
    "    sht1.name = 'Модель'\n",
    "    sht1['A2'].value = list(map(lambda x: x.split('\\t'), list(file)))"
   ]
  },
  {
   "cell_type": "markdown",
   "metadata": {},
   "source": [
    "10. При помощи пакета `xlwings` добавьте в столбец J формулу для описания столбца на языке SQL. Формула должна реализовывать следующую логику:\n",
    "\n",
    "    1\\. в начале строки идут значения из столбцов В и C (значение столбца С приведено к верхнему регистру), разделенные пробелом\n",
    "    \n",
    "    2\\. далее идут слова на основе столбца \"Ключ\"\n",
    "        2.1 если в столбце \"Ключ\" указано значение \"PK\", то дальше через пробел идет ключевое слово \"PRIMARY KEY\"\n",
    "        2.2 если в столбце \"Ключ\" указано значение \"FK\", то дальше через пробел идет ключевое слово \"REFERENCES\", затем значения столбцов H и I в формате \"название_таблицы(название_столбца)\"\n",
    "        \n",
    "    3\\. если в столбце \"Обязательно к заполнению\" указано значение \"Y\" и в столбце \"Ключ\" указано не \"PK\", то дальше через пробел идет ключевое слово \"NOT NULL\".\n",
    "\n",
    "Заполните этой формулой необходимое количество строк, используя \"протягивание\". Количество строк для протягивания определите на основе данных.\n",
    "\n",
    "Сделайте скриншот текущего состояния листа и прикрепите в ячейку ноутбука."
   ]
  },
  {
   "cell_type": "code",
   "execution_count": null,
   "metadata": {},
   "outputs": [],
   "source": [
    "last_row = sht1['A2'].expand('down').size+1\n",
    "sht1[f\"J2:J{last_row}\"].value = '=TEXTJOIN(\" \";;B2;UPPER(C2); IFS(G2=\"FK\"; TEXTJOIN(\" \"; ;\"REFERENCES\";H2; SUBSTITUTE(\"(%)\";\"%\";I2)); G2=\"PK\";\"PRIMARY KEY\"; TRUE; \"\"); IF(AND(D2=\"Y\";G2<>\"PK\");\"NOT NULL\";\"\"))'"
   ]
  },
  {
   "cell_type": "markdown",
   "metadata": {},
   "source": [
    "11. При помощи пакета `xlwings` измените стилизацию листа `Модель`.\n",
    "* для заголовков добавьте заливку цвета `00ccff`\n",
    "* примените автоподбор ширины столбца;\n",
    "* сделайте шрифт заголовков полужирным;\n",
    "* добавьте таблице автофильтр.\n",
    "\n",
    "Сделайте скриншот текущего состояния листа и прикрепите в ячейку ноутбука."
   ]
  },
  {
   "cell_type": "code",
   "execution_count": null,
   "metadata": {},
   "outputs": [],
   "source": [
    "sht1[f'A1:J{last_row}'].value = ['Сущность', 'Атрибут', 'Тип данных', 'NOT NULL']\n",
    "sht1[f'A1:J{last_row}'].columns.autofit()\n",
    "sht1[f'A1:J1'].color = '#00ccff'\n",
    "sht1[f'A1:J1'].font.bold = True\n",
    "#autofilt\n",
    "sht1.tables.add(sht1.used_range, name = 'a_table')\n",
    "sht1.tables['a_table'].show_autofilter = True"
   ]
  },
  {
   "cell_type": "markdown",
   "metadata": {},
   "source": [
    "12. Посчитайте количество атрибутов для каждой из сущностей. Создайте лист `Статистика` и запишите в него результат группировки, начиная с ячейки \"А1\". Визуализируйте полученный результат при помощи столбчатой диаграммы. Сохраните полученную визуализацию на лист `Статистика`, начиная с ячейки \"E2\".  Сделайте скриншот листа `Статистика` и прикрепите в ячейку ноутбука.\n",
    "\n",
    "* Вы можете воспользоваться методами для визуализации, которые поставляются вместе с объектами `pandas` (см. https://pandas.pydata.org/docs/reference/api/pandas.DataFrame.plot) "
   ]
  },
  {
   "cell_type": "code",
   "execution_count": null,
   "metadata": {},
   "outputs": [],
   "source": [
    "try:\n",
    "    wb.sheets.add('Статистика')\n",
    "except: \n",
    "    pass\n",
    "finally:\n",
    "    stats_sheet = wb.sheets['Статистика']\n",
    "model = sht1['A1:B18'].value\n",
    "model_table = pd.DataFrame(model[1:], columns = model[0])\n",
    "grouped_data= model_table.groupby('Сущность').count()\n",
    "stats_sheet['A1'].value = grouped_data\n",
    "figure = grouped_data.plot.bar().get_figure()"
   ]
  }
 ],
 "metadata": {
  "kernelspec": {
   "display_name": "Python 3 (ipykernel)",
   "language": "python",
   "name": "python3"
  },
  "language_info": {
   "codemirror_mode": {
    "name": "ipython",
    "version": 3
   },
   "file_extension": ".py",
   "mimetype": "text/x-python",
   "name": "python",
   "nbconvert_exporter": "python",
   "pygments_lexer": "ipython3",
   "version": "3.9.13"
  }
 },
 "nbformat": 4,
 "nbformat_minor": 4
}
